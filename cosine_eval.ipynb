{
 "cells": [
  {
   "cell_type": "markdown",
   "metadata": {},
   "source": [
    "#### Input Analysis"
   ]
  },
  {
   "cell_type": "code",
   "execution_count": 8,
   "metadata": {},
   "outputs": [
    {
     "name": "stdout",
     "output_type": "stream",
     "text": [
      "(146817, 2)\n",
      "(146817, 2)\n",
      "146817\n"
     ]
    }
   ],
   "source": [
    "import pandas as pd\n",
    "\n",
    "data = pd.read_csv(\"./input_data/   .csv\")\n",
    "print(data.shape)\n",
    "data.dropna(subset=['ID', 'LINKEDIN_URL_PERSON'], inplace=True)\n",
    "print(data.shape)\n",
    "print(data['LINKEDIN_URL_PERSON'].nunique())"
   ]
  },
  {
   "cell_type": "markdown",
   "metadata": {},
   "source": [
    "#### Cosine Similarity Results Generation"
   ]
  },
  {
   "cell_type": "code",
   "execution_count": 3,
   "metadata": {},
   "outputs": [],
   "source": [
    "import numpy as np\n",
    "from sentence_transformers import SentenceTransformer\n",
    "from sklearn.metrics.pairwise import cosine_similarity\n",
    "from tqdm.notebook import tqdm\n",
    "tqdm.pandas()\n",
    "\n",
    "def match_urls(list1, list2, threshold=0.90):\n",
    "    # Load pre-trained BERT model\n",
    "    model = SentenceTransformer('distilbert-base-nli-mean-tokens')\n",
    "    \n",
    "    # Generate embeddings for both lists\n",
    "    embeddings1 = model.encode(list1, show_progress_bar=True)\n",
    "    embeddings2 = model.encode(list2, show_progress_bar=True)\n",
    "    \n",
    "    # Initialize results list\n",
    "    matches = []\n",
    "    \n",
    "    # Calculate cosine similarity and find matches\n",
    "    for i, emb1 in enumerate(tqdm(embeddings1, desc=\"Matching URLs\")):\n",
    "        similarities = cosine_similarity([emb1], embeddings2)[0]\n",
    "        best_match_index = np.argmax(similarities)\n",
    "        best_match_score = similarities[best_match_index]\n",
    "        \n",
    "        if best_match_score >= threshold:\n",
    "            matches.append((list1[i], list2[best_match_index], best_match_score))\n",
    "    \n",
    "    return matches"
   ]
  },
  {
   "cell_type": "code",
   "execution_count": 1,
   "metadata": {},
   "outputs": [
    {
     "name": "stdout",
     "output_type": "stream",
     "text": [
      "crm_df: (5409, 4)\n",
      "ss_df: (626269, 2)\n"
     ]
    }
   ],
   "source": [
    "import pandas as pd\n",
    "\n",
    "crm_df = pd.read_csv(\"./input_data/VW_SF_CRM_MATCH.csv\")\n",
    "crm_df.dropna(subset=['ID', 'COMPANY_WEBSITE'], inplace=True)\n",
    "crm_df.rename(columns={'ID': 'CRM_ID'}, inplace=True)\n",
    "crm_df = crm_df.sample(frac=0.2)\n",
    "print(\"crm_df:\", crm_df.shape)\n",
    "\n",
    "ss_df = pd.read_csv('./input_data/VW_SS_COMPANY_MATCH.csv')\n",
    "ss_df.dropna(subset=['ID', 'WEBSITE'], inplace=True)\n",
    "ss_df = ss_df.sample(frac=0.2)\n",
    "print(\"ss_df:\", ss_df.shape)"
   ]
  },
  {
   "cell_type": "code",
   "execution_count": 4,
   "metadata": {},
   "outputs": [
    {
     "data": {
      "application/vnd.jupyter.widget-view+json": {
       "model_id": "d533ba3d797044548c84a5c979d97fa5",
       "version_major": 2,
       "version_minor": 0
      },
      "text/plain": [
       "Batches:   0%|          | 0/170 [00:00<?, ?it/s]"
      ]
     },
     "metadata": {},
     "output_type": "display_data"
    },
    {
     "data": {
      "application/vnd.jupyter.widget-view+json": {
       "model_id": "9dcd149769bb494984397771f9555ab9",
       "version_major": 2,
       "version_minor": 0
      },
      "text/plain": [
       "Batches:   0%|          | 0/19571 [00:00<?, ?it/s]"
      ]
     },
     "metadata": {},
     "output_type": "display_data"
    },
    {
     "data": {
      "application/vnd.jupyter.widget-view+json": {
       "model_id": "29b1aa9927904c37951a5d50a2908a5d",
       "version_major": 2,
       "version_minor": 0
      },
      "text/plain": [
       "Matching URLs:   0%|          | 0/5409 [00:00<?, ?it/s]"
      ]
     },
     "metadata": {},
     "output_type": "display_data"
    },
    {
     "data": {
      "text/html": [
       "<div>\n",
       "<style scoped>\n",
       "    .dataframe tbody tr th:only-of-type {\n",
       "        vertical-align: middle;\n",
       "    }\n",
       "\n",
       "    .dataframe tbody tr th {\n",
       "        vertical-align: top;\n",
       "    }\n",
       "\n",
       "    .dataframe thead th {\n",
       "        text-align: right;\n",
       "    }\n",
       "</style>\n",
       "<table border=\"1\" class=\"dataframe\">\n",
       "  <thead>\n",
       "    <tr style=\"text-align: right;\">\n",
       "      <th></th>\n",
       "      <th>CRM_URL</th>\n",
       "      <th>SS_URL</th>\n",
       "      <th>Similarity_Score</th>\n",
       "    </tr>\n",
       "  </thead>\n",
       "  <tbody>\n",
       "    <tr>\n",
       "      <th>0</th>\n",
       "      <td>https://boo.world/</td>\n",
       "      <td>https://boo.vn</td>\n",
       "      <td>0.903644</td>\n",
       "    </tr>\n",
       "    <tr>\n",
       "      <th>1</th>\n",
       "      <td>www.mobot.io</td>\n",
       "      <td>https://www.mobot.io</td>\n",
       "      <td>0.951254</td>\n",
       "    </tr>\n",
       "    <tr>\n",
       "      <th>2</th>\n",
       "      <td>zengistics.com</td>\n",
       "      <td>http://zenogroupinvestments.com</td>\n",
       "      <td>0.925164</td>\n",
       "    </tr>\n",
       "    <tr>\n",
       "      <th>3</th>\n",
       "      <td>www.joinair.com</td>\n",
       "      <td>https://joinair.com</td>\n",
       "      <td>0.970445</td>\n",
       "    </tr>\n",
       "    <tr>\n",
       "      <th>4</th>\n",
       "      <td>www.pixformance.com</td>\n",
       "      <td>https://www.pixgrammer.com</td>\n",
       "      <td>0.956128</td>\n",
       "    </tr>\n",
       "  </tbody>\n",
       "</table>\n",
       "</div>"
      ],
      "text/plain": [
       "               CRM_URL                           SS_URL Similarity_Score\n",
       "0   https://boo.world/                   https://boo.vn         0.903644\n",
       "1         www.mobot.io             https://www.mobot.io         0.951254\n",
       "2       zengistics.com  http://zenogroupinvestments.com         0.925164\n",
       "3      www.joinair.com              https://joinair.com         0.970445\n",
       "4  www.pixformance.com       https://www.pixgrammer.com         0.956128"
      ]
     },
     "execution_count": 4,
     "metadata": {},
     "output_type": "execute_result"
    }
   ],
   "source": [
    "# Example usage\n",
    "urls1 = crm_df['COMPANY_WEBSITE'].to_list()\n",
    "urls2 = ss_df['WEBSITE'].to_list()\n",
    "\n",
    "# urls1_smaple = urls1[:20000]\n",
    "# urls2_smaple = urls2[:20000]\n",
    "\n",
    "results = match_urls(urls1, urls2)\n",
    "# results = match_urls(urls1_smaple, urls2_smaple)\n",
    "\n",
    "result_df = pd.DataFrame()\n",
    "result_df[['CRM_URL', 'SS_URL', \"Similarity_Score\"]] = results\n",
    "\n",
    "result_df.head()\n",
    "\n",
    "# print(\"Matched URLs:\")\n",
    "# for url1, url2, score in results:\n",
    "#     print(f\"{url1} <-> {url2} (Similarity: {score:.2f})\")"
   ]
  },
  {
   "cell_type": "code",
   "execution_count": 5,
   "metadata": {},
   "outputs": [],
   "source": [
    "result_df.to_csv(\"crm_ss_cosine_match_20p.csv\")"
   ]
  },
  {
   "cell_type": "markdown",
   "metadata": {},
   "source": [
    " #### Cosine Simialrity Results Comparison"
   ]
  },
  {
   "cell_type": "code",
   "execution_count": 4,
   "metadata": {},
   "outputs": [
    {
     "data": {
      "application/vnd.jupyter.widget-view+json": {
       "model_id": "d7edc937ddcb49349c7d90ead7782883",
       "version_major": 2,
       "version_minor": 0
      },
      "text/plain": [
       "  0%|          | 0/853974 [00:00<?, ?it/s]"
      ]
     },
     "metadata": {},
     "output_type": "display_data"
    },
    {
     "data": {
      "application/vnd.jupyter.widget-view+json": {
       "model_id": "976d311dd0a74f0da55e2e9a419e23f9",
       "version_major": 2,
       "version_minor": 0
      },
      "text/plain": [
       "  0%|          | 0/853974 [00:00<?, ?it/s]"
      ]
     },
     "metadata": {},
     "output_type": "display_data"
    }
   ],
   "source": [
    "import pandas as pd\n",
    "from tqdm.notebook import tqdm\n",
    "from preprocessor import URLPreprocessor\n",
    "tqdm.pandas()\n",
    "\n",
    "preprocess = URLPreprocessor()\n",
    "\n",
    "result_df = pd.read_csv(\"crm_cb_cosine_match.csv\")\n",
    "\n",
    "result_df['crm_company'] = result_df['CRM_URL'].progress_apply(preprocess.extract_domain_and_company)\n",
    "result_df['cb_company'] = result_df['CB_URL'].progress_apply(preprocess.extract_domain_and_company)"
   ]
  },
  {
   "cell_type": "code",
   "execution_count": 5,
   "metadata": {},
   "outputs": [
    {
     "data": {
      "application/vnd.jupyter.widget-view+json": {
       "model_id": "e523860475b249108e36e798af0bed7a",
       "version_major": 2,
       "version_minor": 0
      },
      "text/plain": [
       "  0%|          | 0/853974 [00:00<?, ?it/s]"
      ]
     },
     "metadata": {},
     "output_type": "display_data"
    }
   ],
   "source": [
    "result_df['match'] = result_df.progress_apply(lambda x: 1 if x['crm_company'] == x['cb_company'] else 0, axis=1)"
   ]
  },
  {
   "cell_type": "code",
   "execution_count": 6,
   "metadata": {},
   "outputs": [
    {
     "data": {
      "text/html": [
       "<div>\n",
       "<style scoped>\n",
       "    .dataframe tbody tr th:only-of-type {\n",
       "        vertical-align: middle;\n",
       "    }\n",
       "\n",
       "    .dataframe tbody tr th {\n",
       "        vertical-align: top;\n",
       "    }\n",
       "\n",
       "    .dataframe thead th {\n",
       "        text-align: right;\n",
       "    }\n",
       "</style>\n",
       "<table border=\"1\" class=\"dataframe\">\n",
       "  <thead>\n",
       "    <tr style=\"text-align: right;\">\n",
       "      <th></th>\n",
       "      <th>CRM_URL</th>\n",
       "      <th>CB_URL</th>\n",
       "      <th>Similarity_Score</th>\n",
       "      <th>crm_company</th>\n",
       "      <th>cb_company</th>\n",
       "      <th>match</th>\n",
       "    </tr>\n",
       "  </thead>\n",
       "  <tbody>\n",
       "    <tr>\n",
       "      <th>0</th>\n",
       "      <td>https://www.bits.bi/</td>\n",
       "      <td>https://www.bits.bi/</td>\n",
       "      <td>1.0</td>\n",
       "      <td>bits.bi</td>\n",
       "      <td>bits.bi</td>\n",
       "      <td>1</td>\n",
       "    </tr>\n",
       "    <tr>\n",
       "      <th>1</th>\n",
       "      <td>https://greatquestion.co/</td>\n",
       "      <td>https://greatquestion.co/</td>\n",
       "      <td>1.0</td>\n",
       "      <td>greatquestion.co</td>\n",
       "      <td>greatquestion.co</td>\n",
       "      <td>1</td>\n",
       "    </tr>\n",
       "    <tr>\n",
       "      <th>2</th>\n",
       "      <td>https://octopus.energy/</td>\n",
       "      <td>https://octopus.energy/</td>\n",
       "      <td>1.0</td>\n",
       "      <td>octopus.energy</td>\n",
       "      <td>octopus.energy</td>\n",
       "      <td>1</td>\n",
       "    </tr>\n",
       "    <tr>\n",
       "      <th>3</th>\n",
       "      <td>https://charac.co.uk/</td>\n",
       "      <td>https://charac.co.uk/</td>\n",
       "      <td>1.0</td>\n",
       "      <td>charac.co.uk</td>\n",
       "      <td>charac.co.uk</td>\n",
       "      <td>1</td>\n",
       "    </tr>\n",
       "    <tr>\n",
       "      <th>4</th>\n",
       "      <td>https://payfina.com/</td>\n",
       "      <td>https://payfina.com/</td>\n",
       "      <td>1.0</td>\n",
       "      <td>payfina.com</td>\n",
       "      <td>payfina.com</td>\n",
       "      <td>1</td>\n",
       "    </tr>\n",
       "  </tbody>\n",
       "</table>\n",
       "</div>"
      ],
      "text/plain": [
       "                     CRM_URL                     CB_URL  Similarity_Score  \\\n",
       "0       https://www.bits.bi/       https://www.bits.bi/               1.0   \n",
       "1  https://greatquestion.co/  https://greatquestion.co/               1.0   \n",
       "2    https://octopus.energy/    https://octopus.energy/               1.0   \n",
       "3      https://charac.co.uk/      https://charac.co.uk/               1.0   \n",
       "4       https://payfina.com/       https://payfina.com/               1.0   \n",
       "\n",
       "        crm_company        cb_company  match  \n",
       "0           bits.bi           bits.bi      1  \n",
       "1  greatquestion.co  greatquestion.co      1  \n",
       "2    octopus.energy    octopus.energy      1  \n",
       "3      charac.co.uk      charac.co.uk      1  \n",
       "4       payfina.com       payfina.com      1  "
      ]
     },
     "execution_count": 6,
     "metadata": {},
     "output_type": "execute_result"
    }
   ],
   "source": [
    "result_df.head()"
   ]
  },
  {
   "cell_type": "code",
   "execution_count": 8,
   "metadata": {},
   "outputs": [
    {
     "name": "stdout",
     "output_type": "stream",
     "text": [
      "(4624, 6)\n",
      "4624\n"
     ]
    },
    {
     "data": {
      "text/html": [
       "<div>\n",
       "<style scoped>\n",
       "    .dataframe tbody tr th:only-of-type {\n",
       "        vertical-align: middle;\n",
       "    }\n",
       "\n",
       "    .dataframe tbody tr th {\n",
       "        vertical-align: top;\n",
       "    }\n",
       "\n",
       "    .dataframe thead th {\n",
       "        text-align: right;\n",
       "    }\n",
       "</style>\n",
       "<table border=\"1\" class=\"dataframe\">\n",
       "  <thead>\n",
       "    <tr style=\"text-align: right;\">\n",
       "      <th></th>\n",
       "      <th>CRM_URL</th>\n",
       "      <th>CB_URL</th>\n",
       "      <th>Similarity_Score</th>\n",
       "      <th>crm_company</th>\n",
       "      <th>cb_company</th>\n",
       "      <th>match</th>\n",
       "    </tr>\n",
       "  </thead>\n",
       "  <tbody>\n",
       "    <tr>\n",
       "      <th>0</th>\n",
       "      <td>1build.com</td>\n",
       "      <td>http://1byone.com</td>\n",
       "      <td>0.9274</td>\n",
       "      <td>1build.com</td>\n",
       "      <td>1byone.com</td>\n",
       "      <td>0</td>\n",
       "    </tr>\n",
       "    <tr>\n",
       "      <th>1</th>\n",
       "      <td>1mg.com</td>\n",
       "      <td>http://1seo.com</td>\n",
       "      <td>0.9223</td>\n",
       "      <td>1mg.com</td>\n",
       "      <td>1seo.com</td>\n",
       "      <td>0</td>\n",
       "    </tr>\n",
       "    <tr>\n",
       "      <th>2</th>\n",
       "      <td>1plusx.com</td>\n",
       "      <td>http://1plusx.com</td>\n",
       "      <td>0.9373</td>\n",
       "      <td>1plusx.com</td>\n",
       "      <td>1plusx.com</td>\n",
       "      <td>1</td>\n",
       "    </tr>\n",
       "    <tr>\n",
       "      <th>3</th>\n",
       "      <td>1qbit.com</td>\n",
       "      <td>https://1qbit.com</td>\n",
       "      <td>0.9230</td>\n",
       "      <td>1qbit.com</td>\n",
       "      <td>1qbit.com</td>\n",
       "      <td>1</td>\n",
       "    </tr>\n",
       "    <tr>\n",
       "      <th>4</th>\n",
       "      <td>1stdibs.com</td>\n",
       "      <td>https://1stDigital.com</td>\n",
       "      <td>0.9305</td>\n",
       "      <td>1stdibs.com</td>\n",
       "      <td>1stdigital.com</td>\n",
       "      <td>0</td>\n",
       "    </tr>\n",
       "  </tbody>\n",
       "</table>\n",
       "</div>"
      ],
      "text/plain": [
       "       CRM_URL                  CB_URL  Similarity_Score  crm_company  \\\n",
       "0   1build.com       http://1byone.com            0.9274   1build.com   \n",
       "1      1mg.com         http://1seo.com            0.9223      1mg.com   \n",
       "2   1plusx.com       http://1plusx.com            0.9373   1plusx.com   \n",
       "3    1qbit.com       https://1qbit.com            0.9230    1qbit.com   \n",
       "4  1stdibs.com  https://1stDigital.com            0.9305  1stdibs.com   \n",
       "\n",
       "       cb_company  match  \n",
       "0      1byone.com      0  \n",
       "1        1seo.com      0  \n",
       "2      1plusx.com      1  \n",
       "3       1qbit.com      1  \n",
       "4  1stdigital.com      0  "
      ]
     },
     "execution_count": 8,
     "metadata": {},
     "output_type": "execute_result"
    }
   ],
   "source": [
    "# Group by 'CRM_URL' and get the index of the row with the maximum 'Similarity_Score' for each group\n",
    "idx = result_df.groupby('CRM_URL')['Similarity_Score'].idxmax()\n",
    "\n",
    "# Use loc to filter the DataFrame based on these indices\n",
    "result_df = result_df.loc[idx]\n",
    "\n",
    "# If you want to reset the index after this operation\n",
    "result_df = result_df.reset_index(drop=True)\n",
    "print(result_df.shape)\n",
    "print(result_df['CRM_URL'].nunique())\n",
    "result_df.head()"
   ]
  },
  {
   "cell_type": "code",
   "execution_count": 9,
   "metadata": {},
   "outputs": [
    {
     "data": {
      "text/plain": [
       "match\n",
       "1    2956\n",
       "0    1668\n",
       "Name: count, dtype: int64"
      ]
     },
     "execution_count": 9,
     "metadata": {},
     "output_type": "execute_result"
    }
   ],
   "source": [
    "result_df['match'].value_counts()"
   ]
  },
  {
   "cell_type": "code",
   "execution_count": 14,
   "metadata": {},
   "outputs": [
    {
     "data": {
      "image/png": "[encoded data removed]",
      "text/plain": [
       "<Figure size 1000x600 with 1 Axes>"
      ]
     },
     "metadata": {},
     "output_type": "display_data"
    }
   ],
   "source": [
    "import seaborn as sns\n",
    "import numpy as np\n",
    "import matplotlib.pyplot as plt\n",
    "\n",
    "# Define the thresholds for Similarity Score\n",
    "thresholds = np.arange(0.90, 1.01, 0.01)\n",
    "\n",
    "# Calculate the count of zeros in the match column for each threshold\n",
    "zero_counts = []\n",
    "for threshold in thresholds:\n",
    "    count_zeros = result_df[(result_df['Similarity_Score'] > threshold) & (result_df['match'] == 0)].shape[0]\n",
    "    zero_counts.append(count_zeros)\n",
    "\n",
    "# Calculate the False Positive Percentage at each threshold\n",
    "false_positive_percent = [(count_zeros / 4624) * 100 for count_zeros in zero_counts]\n",
    "\n",
    "# Create a bar plot using seaborn with all thresholds visible on x-axis\n",
    "plt.figure(figsize=(10, 6))\n",
    "sns.barplot(x=thresholds, y=false_positive_percent, color='skyblue')\n",
    "\n",
    "# Add labels to each bar with the actual percentage\n",
    "for i, v in enumerate(false_positive_percent):\n",
    "    plt.text(i, v + 0.5, f'{v:.2f}%', ha='center', va='bottom', fontsize=10)\n",
    "\n",
    "plt.title('False Positive Percentage at Different Thresholds of Similarity Score', fontsize=14)\n",
    "plt.xlabel('Similarity Score Threshold', fontsize=12)\n",
    "plt.ylabel('False Positives Out of Matched URLs', fontsize=12)\n",
    "plt.ylim(0, max(false_positive_percent) + 5)\n",
    "plt.xticks(ticks=range(len(thresholds)), labels=[f'{th:.2f}' for th in thresholds], rotation=45)\n",
    "plt.grid(axis='y')\n",
    "plt.show()"
   ]
  },
  {
   "cell_type": "code",
   "execution_count": 15,
   "metadata": {},
   "outputs": [
    {
     "data": {
      "image/png": "[encoded data removed]",
      "text/plain": [
       "<Figure size 1000x600 with 1 Axes>"
      ]
     },
     "metadata": {},
     "output_type": "display_data"
    }
   ],
   "source": [
    "# Calculate the Match Percentage at each threshold\n",
    "match_counts = []\n",
    "for threshold in thresholds:\n",
    "    count_ones = result_df[(result_df['Similarity_Score'] > threshold) & (result_df['match'] == 1)].shape[0]\n",
    "    match_counts.append(count_ones)\n",
    "\n",
    "match_percent = [(count_ones / 5000) * 100 for count_ones in match_counts]\n",
    "\n",
    "# Create a bar plot using seaborn for Match Percentage\n",
    "plt.figure(figsize=(10, 6))\n",
    "sns.barplot(x=thresholds, y=match_percent, color='green')\n",
    "\n",
    "# Add labels to each bar with the actual percentage\n",
    "for i, v in enumerate(match_percent):\n",
    "    plt.text(i, v + 0.5, f'{v:.2f}%', ha='center', va='bottom', fontsize=10)\n",
    "\n",
    "plt.title('Match Percentage at Different Thresholds of Similarity Score', fontsize=14)\n",
    "plt.xlabel('Similarity Score Threshold', fontsize=12)\n",
    "plt.ylabel('Correct CRM URLs Matched %', fontsize=12)\n",
    "plt.ylim(0, max(match_percent) + 5)\n",
    "plt.xticks(ticks=range(len(thresholds)), labels=[f'{th:.2f}' for th in thresholds], rotation=45)\n",
    "plt.grid(axis='y')\n",
    "\n",
    "plt.show()"
   ]
  },
  {
   "cell_type": "markdown",
   "metadata": {},
   "source": [
    "#### Duplicacy Handling"
   ]
  },
  {
   "cell_type": "code",
   "execution_count": 1,
   "metadata": {},
   "outputs": [
    {
     "data": {
      "text/html": [
       "<div>\n",
       "<style scoped>\n",
       "    .dataframe tbody tr th:only-of-type {\n",
       "        vertical-align: middle;\n",
       "    }\n",
       "\n",
       "    .dataframe tbody tr th {\n",
       "        vertical-align: top;\n",
       "    }\n",
       "\n",
       "    .dataframe thead th {\n",
       "        text-align: right;\n",
       "    }\n",
       "</style>\n",
       "<table border=\"1\" class=\"dataframe\">\n",
       "  <thead>\n",
       "    <tr style=\"text-align: right;\">\n",
       "      <th></th>\n",
       "      <th>CRM_ID</th>\n",
       "      <th>UUID</th>\n",
       "      <th>COMPANY_WEBSITE</th>\n",
       "      <th>HOMEPAGE_URL</th>\n",
       "      <th>crm_company</th>\n",
       "      <th>cb_company</th>\n",
       "    </tr>\n",
       "  </thead>\n",
       "  <tbody>\n",
       "    <tr>\n",
       "      <th>42</th>\n",
       "      <td>001i000001utkTJAAY</td>\n",
       "      <td>d7c6c9d9-8468-c284-dc83-5f384cfa39b9</td>\n",
       "      <td>architizer.com</td>\n",
       "      <td>http://www.architizer.com</td>\n",
       "      <td>architizer.com</td>\n",
       "      <td>architizer.com</td>\n",
       "    </tr>\n",
       "    <tr>\n",
       "      <th>43</th>\n",
       "      <td>001i000001utkTJAAY</td>\n",
       "      <td>0ec2f31b-a156-487f-8494-84e61fc71651</td>\n",
       "      <td>architizer.com</td>\n",
       "      <td>https://architizer.com/firms/grassicorrea-arch...</td>\n",
       "      <td>architizer.com</td>\n",
       "      <td>architizer.com</td>\n",
       "    </tr>\n",
       "    <tr>\n",
       "      <th>54</th>\n",
       "      <td>0011Y00002PgFNnQAN</td>\n",
       "      <td>a8ed1c98-a124-ae72-514a-5bbc66fe66bb</td>\n",
       "      <td>tellius.com</td>\n",
       "      <td>http://www.tellius.com</td>\n",
       "      <td>tellius.com</td>\n",
       "      <td>tellius.com</td>\n",
       "    </tr>\n",
       "    <tr>\n",
       "      <th>55</th>\n",
       "      <td>0011Y00002PgFNnQAN</td>\n",
       "      <td>c9386261-6653-4c3d-bfa7-f4391c850960</td>\n",
       "      <td>tellius.com</td>\n",
       "      <td>http://www.tellius.com</td>\n",
       "      <td>tellius.com</td>\n",
       "      <td>tellius.com</td>\n",
       "    </tr>\n",
       "    <tr>\n",
       "      <th>88</th>\n",
       "      <td>001i000001PLvwYAAT</td>\n",
       "      <td>4ebf3e17-b049-776e-01c4-f103f61478cc</td>\n",
       "      <td>wattpad.com</td>\n",
       "      <td>https://www.wattpad.com</td>\n",
       "      <td>wattpad.com</td>\n",
       "      <td>wattpad.com</td>\n",
       "    </tr>\n",
       "    <tr>\n",
       "      <th>...</th>\n",
       "      <td>...</td>\n",
       "      <td>...</td>\n",
       "      <td>...</td>\n",
       "      <td>...</td>\n",
       "      <td>...</td>\n",
       "      <td>...</td>\n",
       "    </tr>\n",
       "    <tr>\n",
       "      <th>27857</th>\n",
       "      <td>0011Y00003ASsFqQAL</td>\n",
       "      <td>2ff6de55-18e4-49c5-a328-ae7604d677f6</td>\n",
       "      <td>www.clementineapp.com</td>\n",
       "      <td>https://clementineapp.com/</td>\n",
       "      <td>clementineapp.com</td>\n",
       "      <td>clementineapp.com</td>\n",
       "    </tr>\n",
       "    <tr>\n",
       "      <th>27858</th>\n",
       "      <td>0011Y00003ASsFqQAL</td>\n",
       "      <td>622b6b11-9973-ce68-51c8-7e2552413762</td>\n",
       "      <td>www.clementineapp.com</td>\n",
       "      <td>https://clementineapp.com/</td>\n",
       "      <td>clementineapp.com</td>\n",
       "      <td>clementineapp.com</td>\n",
       "    </tr>\n",
       "    <tr>\n",
       "      <th>27915</th>\n",
       "      <td>001i000001ISCRsAAP</td>\n",
       "      <td>ca84254b-ab53-ee8a-6630-e0c32d0be45e</td>\n",
       "      <td>welltok.com</td>\n",
       "      <td>http://welltok.com</td>\n",
       "      <td>welltok.com</td>\n",
       "      <td>welltok.com</td>\n",
       "    </tr>\n",
       "    <tr>\n",
       "      <th>27916</th>\n",
       "      <td>001i000001ISCRsAAP</td>\n",
       "      <td>3b9a855a-41ba-464c-99c1-28548930c87a</td>\n",
       "      <td>welltok.com</td>\n",
       "      <td>https://www.welltok.com/</td>\n",
       "      <td>welltok.com</td>\n",
       "      <td>welltok.com</td>\n",
       "    </tr>\n",
       "    <tr>\n",
       "      <th>27917</th>\n",
       "      <td>001i000001ISCRsAAP</td>\n",
       "      <td>9f8e6b51-b721-443c-8a9a-36099bbc7125</td>\n",
       "      <td>welltok.com</td>\n",
       "      <td>http://www.welltok.com</td>\n",
       "      <td>welltok.com</td>\n",
       "      <td>welltok.com</td>\n",
       "    </tr>\n",
       "  </tbody>\n",
       "</table>\n",
       "<p>3432 rows × 6 columns</p>\n",
       "</div>"
      ],
      "text/plain": [
       "                   CRM_ID                                  UUID  \\\n",
       "42     001i000001utkTJAAY  d7c6c9d9-8468-c284-dc83-5f384cfa39b9   \n",
       "43     001i000001utkTJAAY  0ec2f31b-a156-487f-8494-84e61fc71651   \n",
       "54     0011Y00002PgFNnQAN  a8ed1c98-a124-ae72-514a-5bbc66fe66bb   \n",
       "55     0011Y00002PgFNnQAN  c9386261-6653-4c3d-bfa7-f4391c850960   \n",
       "88     001i000001PLvwYAAT  4ebf3e17-b049-776e-01c4-f103f61478cc   \n",
       "...                   ...                                   ...   \n",
       "27857  0011Y00003ASsFqQAL  2ff6de55-18e4-49c5-a328-ae7604d677f6   \n",
       "27858  0011Y00003ASsFqQAL  622b6b11-9973-ce68-51c8-7e2552413762   \n",
       "27915  001i000001ISCRsAAP  ca84254b-ab53-ee8a-6630-e0c32d0be45e   \n",
       "27916  001i000001ISCRsAAP  3b9a855a-41ba-464c-99c1-28548930c87a   \n",
       "27917  001i000001ISCRsAAP  9f8e6b51-b721-443c-8a9a-36099bbc7125   \n",
       "\n",
       "             COMPANY_WEBSITE  \\\n",
       "42            architizer.com   \n",
       "43            architizer.com   \n",
       "54               tellius.com   \n",
       "55               tellius.com   \n",
       "88               wattpad.com   \n",
       "...                      ...   \n",
       "27857  www.clementineapp.com   \n",
       "27858  www.clementineapp.com   \n",
       "27915            welltok.com   \n",
       "27916            welltok.com   \n",
       "27917            welltok.com   \n",
       "\n",
       "                                            HOMEPAGE_URL        crm_company  \\\n",
       "42                             http://www.architizer.com     architizer.com   \n",
       "43     https://architizer.com/firms/grassicorrea-arch...     architizer.com   \n",
       "54                                http://www.tellius.com        tellius.com   \n",
       "55                                http://www.tellius.com        tellius.com   \n",
       "88                               https://www.wattpad.com        wattpad.com   \n",
       "...                                                  ...                ...   \n",
       "27857                         https://clementineapp.com/  clementineapp.com   \n",
       "27858                         https://clementineapp.com/  clementineapp.com   \n",
       "27915                                 http://welltok.com        welltok.com   \n",
       "27916                           https://www.welltok.com/        welltok.com   \n",
       "27917                             http://www.welltok.com        welltok.com   \n",
       "\n",
       "              cb_company  \n",
       "42        architizer.com  \n",
       "43        architizer.com  \n",
       "54           tellius.com  \n",
       "55           tellius.com  \n",
       "88           wattpad.com  \n",
       "...                  ...  \n",
       "27857  clementineapp.com  \n",
       "27858  clementineapp.com  \n",
       "27915        welltok.com  \n",
       "27916        welltok.com  \n",
       "27917        welltok.com  \n",
       "\n",
       "[3432 rows x 6 columns]"
      ]
     },
     "execution_count": 1,
     "metadata": {},
     "output_type": "execute_result"
    }
   ],
   "source": [
    "import pandas as pd\n",
    "\n",
    "data = pd.read_csv(\"./match_tables/crm_cb_matched.csv\")\n",
    "\n",
    "duplicate_companies = data.groupby('cb_company').filter(lambda x: len(x) > 1)\n",
    "duplicate_companies"
   ]
  },
  {
   "cell_type": "code",
   "execution_count": 2,
   "metadata": {},
   "outputs": [],
   "source": [
    "from postprocess import process_all_matched_outputs\n",
    "\n",
    "match_tables = [{'matched_path': \"./match_tables/crm_cb_matched.csv\"}]\n",
    "\n",
    "process_all_matched_outputs = process_all_matched_outputs(match_tables)"
   ]
  },
  {
   "cell_type": "code",
   "execution_count": 3,
   "metadata": {},
   "outputs": [],
   "source": [
    "crm_df = pd.read_csv(\"./match_tables/crm_cb_matched.csv\")\n",
    "duplicate_companies = crm_df.groupby('cb_company').filter(lambda x: len(x) > 1)"
   ]
  },
  {
   "cell_type": "code",
   "execution_count": 4,
   "metadata": {},
   "outputs": [
    {
     "data": {
      "text/html": [
       "<div>\n",
       "<style scoped>\n",
       "    .dataframe tbody tr th:only-of-type {\n",
       "        vertical-align: middle;\n",
       "    }\n",
       "\n",
       "    .dataframe tbody tr th {\n",
       "        vertical-align: top;\n",
       "    }\n",
       "\n",
       "    .dataframe thead th {\n",
       "        text-align: right;\n",
       "    }\n",
       "</style>\n",
       "<table border=\"1\" class=\"dataframe\">\n",
       "  <thead>\n",
       "    <tr style=\"text-align: right;\">\n",
       "      <th></th>\n",
       "      <th>CRM_ID</th>\n",
       "      <th>UUID</th>\n",
       "      <th>COMPANY_WEBSITE</th>\n",
       "      <th>HOMEPAGE_URL</th>\n",
       "      <th>crm_company</th>\n",
       "      <th>cb_company</th>\n",
       "    </tr>\n",
       "  </thead>\n",
       "  <tbody>\n",
       "  </tbody>\n",
       "</table>\n",
       "</div>"
      ],
      "text/plain": [
       "Empty DataFrame\n",
       "Columns: [CRM_ID, UUID, COMPANY_WEBSITE, HOMEPAGE_URL, crm_company, cb_company]\n",
       "Index: []"
      ]
     },
     "execution_count": 4,
     "metadata": {},
     "output_type": "execute_result"
    }
   ],
   "source": [
    "duplicate_companies"
   ]
  },
  {
   "cell_type": "code",
   "execution_count": 6,
   "metadata": {},
   "outputs": [
    {
     "name": "stdout",
     "output_type": "stream",
     "text": [
      "(27052, 4)\n",
      "(27079, 4)\n"
     ]
    }
   ],
   "source": [
    "data1 = pd.read_csv(\"./input_data/VW_SF_CRM_MATCH.csv\")\n",
    "print(data1.shape)\n",
    "data2 = pd.read_csv(\"./input_data/VW_SF_CRM_MATCH_NEW.csv\")\n",
    "print(data2.shape)"
   ]
  },
  {
   "cell_type": "code",
   "execution_count": 7,
   "metadata": {},
   "outputs": [],
   "source": [
    "data1 = pd.read_csv(\"./input_data/VW_SF_CRM_MATCH.csv\")\n",
    "data1.dropna(subset=['ID', 'COMPANY_WEBSITE'], inplace=True)\n",
    "data1.rename(columns={'ID': 'CRM_ID'}, inplace=True)\n",
    "\n",
    "subdata = pd.read_csv(\"./unmatch_tables/crm_bd_comp_unmatched.csv\")\n",
    "output = data1[data1['CRM_ID'].isin(subdata['CRM_ID'].tolist())][['CRM_ID', 'COMPANY_WEBSITE']]\n",
    "\n",
    "output.to_csv(\"./unmatch_tables/crm_bd_comp_unmatched.csv\")"
   ]
  },
  {
   "cell_type": "code",
   "execution_count": 8,
   "metadata": {},
   "outputs": [],
   "source": [
    "output.to_csv(\"./unmatch_tables/crm_bd_comp_unmatched.csv\", index=False)"
   ]
  },
  {
   "cell_type": "markdown",
   "metadata": {},
   "source": [
    "#### Unit Testing"
   ]
  },
  {
   "cell_type": "code",
   "execution_count": 9,
   "metadata": {},
   "outputs": [
    {
     "name": "stdout",
     "output_type": "stream",
     "text": [
      "Error in load_clean_and_rename_dataframe: No columns to parse from file\n",
      "Error in process: One or both input DataFrames could not be loaded or processed\n"
     ]
    }
   ],
   "source": [
    "import pandas as pd\n",
    "import numpy as np\n",
    "import os\n",
    "from matcher import Matcher\n",
    "\n",
    "def create_test_dataframes():\n",
    "    # Test data for the first DataFrame (e.g., CRM data)\n",
    "    df1_data = {\n",
    "        'ID': ['CRM001', 'CRM002', 'CRM003', None, np.nan],\n",
    "        'COMPANY_WEBSITE': [\n",
    "            'https://www.example.com',\n",
    "            'http://test-company.co.uk',\n",
    "            'www.linkedin.com/company/acme-corp',\n",
    "            np.nan,\n",
    "            None, \n",
    "        ]\n",
    "    }\n",
    "    \n",
    "    # # Test data for the second DataFrame (e.g., external data source)\n",
    "    # df2_data = {\n",
    "    #     'UUID': ['EXT001', 'EXT002', 'nan', np.nan, None],\n",
    "    #     'HOMEPAGE_URL': [\n",
    "    #         'http://example.com',\n",
    "    #         12.456,\n",
    "    #         'https://acme-corp.com',\n",
    "    #         'http://インターナショナル-テスト.jp',\n",
    "    #         1234\n",
    "    #     ]\n",
    "    # }\n",
    "\n",
    "    # df2_data = {\"UUID\": [], \"HOMEPAGE_URL\": []}\n",
    "    df2_data = None\n",
    "    \n",
    "    df1 = pd.DataFrame(df1_data)\n",
    "    df2 = pd.DataFrame(df2_data)\n",
    "    \n",
    "    return df1, df2\n",
    "\n",
    "def run_unit_tests():\n",
    "    # Create an instance of the Matcher class\n",
    "    matcher = Matcher(log_file='unit_test.log')\n",
    "    \n",
    "    # Create test DataFrames\n",
    "    df1, df2 = create_test_dataframes()\n",
    "    \n",
    "    # Save test DataFrames to CSV files\n",
    "    df1.to_csv('test_df1.csv', index=False)\n",
    "    df2.to_csv('test_df2.csv', index=False)\n",
    "    \n",
    "    # Run the process function\n",
    "    matcher.process(\n",
    "        file_path1='test_df1.csv',\n",
    "        file_path2='test_df2.csv',\n",
    "        id_col1='ID',\n",
    "        id_col2='UUID',\n",
    "        url_col1='COMPANY_WEBSITE',\n",
    "        url_col2='HOMEPAGE_URL',\n",
    "        company_col1='crm_company',\n",
    "        company_col2='ext_company',\n",
    "        matched_path=\"test_matched.csv\",\n",
    "        unmatched_path=\"test_unmatched.csv\",\n",
    "        rename_dict1=None,\n",
    "        rename_dict2=None\n",
    "    )\n",
    "    \n",
    "    # # Load and print the results\n",
    "    # matched_results = pd.read_csv('test_matched.csv')\n",
    "    # unmatched_results = pd.read_csv('test_unmatched.csv')\n",
    "    \n",
    "    # print(\"Matched Results:\")\n",
    "    # print(matched_results)\n",
    "    # print(\"\\nUnmatched Results:\")\n",
    "    # print(unmatched_results)\n",
    "    \n",
    "    # # Clean up test files\n",
    "    # os.remove('test_df1.csv')\n",
    "    # os.remove('test_df2.csv')\n",
    "    # os.remove('test_matched.csv')\n",
    "    # os.remove('test_unmatched.csv')\n",
    "    # os.remove('unit_test.log')\n",
    "\n",
    "if __name__ == \"__main__\":\n",
    "    run_unit_tests()"
   ]
  },
  {
   "cell_type": "code",
   "execution_count": null,
   "metadata": {},
   "outputs": [],
   "source": [
    "import snowflake.connector\n",
    "\n",
    "# Define your connection parameters\n",
    "conn_params = {\n",
    "    'account': 'your_account_identifier',\n",
    "    'user': 'your_username',\n",
    "    'password': 'your_password',\n",
    "    'role': 'your_role',\n",
    "    'warehouse': 'your_warehouse',\n",
    "    'database': 'your_database',\n",
    "    'schema': 'your_schema'\n",
    "}\n",
    "\n",
    "# Establish the connection\n",
    "conn = snowflake.connector.connect(**conn_params)\n",
    "\n",
    "# Create a cursor object\n",
    "cur = conn.cursor()\n",
    "\n",
    "# Execute a query\n",
    "cur.execute(\"SELECT CURRENT_VERSION()\")\n",
    "\n",
    "# Fetch the result\n",
    "result = cur.fetchone()\n",
    "print(result)\n",
    "\n",
    "# Close the cursor and connection\n",
    "cur.close()\n",
    "conn.close()\n"
   ]
  },
  {
   "cell_type": "code",
   "execution_count": 1,
   "metadata": {},
   "outputs": [
    {
     "name": "stdout",
     "output_type": "stream",
     "text": [
      "146817\n",
      "5001\n"
     ]
    }
   ],
   "source": [
    "import pandas as pd\n",
    "data1 = pd.read_csv(\"./input_data/VW_BD_PEOPLE_MATCH.csv\")\n",
    "data1.dropna(subset=['ID', 'LINKEDIN_URL_PERSON'], inplace=True)\n",
    "print(data1['LINKEDIN_URL_PERSON'].nunique())\n",
    "\n",
    "data2 = pd.read_csv('./match_tables/crm_bd_people_matched.csv')\n",
    "print(data2['LINKEDIN_URL_PERSON_BD'].nunique())"
   ]
  },
  {
   "cell_type": "code",
   "execution_count": 2,
   "metadata": {},
   "outputs": [
    {
     "name": "stdout",
     "output_type": "stream",
     "text": [
      "5001\n"
     ]
    }
   ],
   "source": [
    "print(data2['LINKEDIN_URL_PERSON'].nunique())"
   ]
  },
  {
   "cell_type": "code",
   "execution_count": 5,
   "metadata": {},
   "outputs": [
    {
     "name": "stdout",
     "output_type": "stream",
     "text": [
      "1042\n"
     ]
    }
   ],
   "source": [
    "data2 = pd.read_csv('./match_tables/crm_bd_people_duplicate_matched.csv')\n",
    "print(data2['LINKEDIN_URL_PERSON_BD'].nunique())"
   ]
  },
  {
   "cell_type": "code",
   "execution_count": null,
   "metadata": {},
   "outputs": [],
   "source": []
  }
 ],
 "metadata": {
  "kernelspec": {
   "display_name": "iconiq",
   "language": "python",
   "name": "python3"
  },
  "language_info": {
   "codemirror_mode": {
    "name": "ipython",
    "version": 3
   },
   "file_extension": ".py",
   "mimetype": "text/x-python",
   "name": "python",
   "nbconvert_exporter": "python",
   "pygments_lexer": "ipython3",
   "version": "3.9.19"
  }
 },
 "nbformat": 4,
 "nbformat_minor": 2
}
